{
  "nbformat": 4,
  "nbformat_minor": 0,
  "metadata": {
    "colab": {
      "provenance": []
    },
    "kernelspec": {
      "name": "python3",
      "display_name": "Python 3"
    },
    "language_info": {
      "name": "python"
    }
  },
  "cells": [
    {
      "cell_type": "code",
      "execution_count": 1,
      "metadata": {
        "colab": {
          "base_uri": "https://localhost:8080/",
          "height": 73
        },
        "id": "8O_kGd2ev3L1",
        "outputId": "19d50a49-22b2-463e-a4a1-66351caeb321"
      },
      "outputs": [
        {
          "output_type": "display_data",
          "data": {
            "text/plain": [
              "<IPython.core.display.HTML object>"
            ],
            "text/html": [
              "\n",
              "     <input type=\"file\" id=\"files-6d62371b-786b-46e0-a46f-816ce3008a78\" name=\"files[]\" multiple disabled\n",
              "        style=\"border:none\" />\n",
              "     <output id=\"result-6d62371b-786b-46e0-a46f-816ce3008a78\">\n",
              "      Upload widget is only available when the cell has been executed in the\n",
              "      current browser session. Please rerun this cell to enable.\n",
              "      </output>\n",
              "      <script>// Copyright 2017 Google LLC\n",
              "//\n",
              "// Licensed under the Apache License, Version 2.0 (the \"License\");\n",
              "// you may not use this file except in compliance with the License.\n",
              "// You may obtain a copy of the License at\n",
              "//\n",
              "//      http://www.apache.org/licenses/LICENSE-2.0\n",
              "//\n",
              "// Unless required by applicable law or agreed to in writing, software\n",
              "// distributed under the License is distributed on an \"AS IS\" BASIS,\n",
              "// WITHOUT WARRANTIES OR CONDITIONS OF ANY KIND, either express or implied.\n",
              "// See the License for the specific language governing permissions and\n",
              "// limitations under the License.\n",
              "\n",
              "/**\n",
              " * @fileoverview Helpers for google.colab Python module.\n",
              " */\n",
              "(function(scope) {\n",
              "function span(text, styleAttributes = {}) {\n",
              "  const element = document.createElement('span');\n",
              "  element.textContent = text;\n",
              "  for (const key of Object.keys(styleAttributes)) {\n",
              "    element.style[key] = styleAttributes[key];\n",
              "  }\n",
              "  return element;\n",
              "}\n",
              "\n",
              "// Max number of bytes which will be uploaded at a time.\n",
              "const MAX_PAYLOAD_SIZE = 100 * 1024;\n",
              "\n",
              "function _uploadFiles(inputId, outputId) {\n",
              "  const steps = uploadFilesStep(inputId, outputId);\n",
              "  const outputElement = document.getElementById(outputId);\n",
              "  // Cache steps on the outputElement to make it available for the next call\n",
              "  // to uploadFilesContinue from Python.\n",
              "  outputElement.steps = steps;\n",
              "\n",
              "  return _uploadFilesContinue(outputId);\n",
              "}\n",
              "\n",
              "// This is roughly an async generator (not supported in the browser yet),\n",
              "// where there are multiple asynchronous steps and the Python side is going\n",
              "// to poll for completion of each step.\n",
              "// This uses a Promise to block the python side on completion of each step,\n",
              "// then passes the result of the previous step as the input to the next step.\n",
              "function _uploadFilesContinue(outputId) {\n",
              "  const outputElement = document.getElementById(outputId);\n",
              "  const steps = outputElement.steps;\n",
              "\n",
              "  const next = steps.next(outputElement.lastPromiseValue);\n",
              "  return Promise.resolve(next.value.promise).then((value) => {\n",
              "    // Cache the last promise value to make it available to the next\n",
              "    // step of the generator.\n",
              "    outputElement.lastPromiseValue = value;\n",
              "    return next.value.response;\n",
              "  });\n",
              "}\n",
              "\n",
              "/**\n",
              " * Generator function which is called between each async step of the upload\n",
              " * process.\n",
              " * @param {string} inputId Element ID of the input file picker element.\n",
              " * @param {string} outputId Element ID of the output display.\n",
              " * @return {!Iterable<!Object>} Iterable of next steps.\n",
              " */\n",
              "function* uploadFilesStep(inputId, outputId) {\n",
              "  const inputElement = document.getElementById(inputId);\n",
              "  inputElement.disabled = false;\n",
              "\n",
              "  const outputElement = document.getElementById(outputId);\n",
              "  outputElement.innerHTML = '';\n",
              "\n",
              "  const pickedPromise = new Promise((resolve) => {\n",
              "    inputElement.addEventListener('change', (e) => {\n",
              "      resolve(e.target.files);\n",
              "    });\n",
              "  });\n",
              "\n",
              "  const cancel = document.createElement('button');\n",
              "  inputElement.parentElement.appendChild(cancel);\n",
              "  cancel.textContent = 'Cancel upload';\n",
              "  const cancelPromise = new Promise((resolve) => {\n",
              "    cancel.onclick = () => {\n",
              "      resolve(null);\n",
              "    };\n",
              "  });\n",
              "\n",
              "  // Wait for the user to pick the files.\n",
              "  const files = yield {\n",
              "    promise: Promise.race([pickedPromise, cancelPromise]),\n",
              "    response: {\n",
              "      action: 'starting',\n",
              "    }\n",
              "  };\n",
              "\n",
              "  cancel.remove();\n",
              "\n",
              "  // Disable the input element since further picks are not allowed.\n",
              "  inputElement.disabled = true;\n",
              "\n",
              "  if (!files) {\n",
              "    return {\n",
              "      response: {\n",
              "        action: 'complete',\n",
              "      }\n",
              "    };\n",
              "  }\n",
              "\n",
              "  for (const file of files) {\n",
              "    const li = document.createElement('li');\n",
              "    li.append(span(file.name, {fontWeight: 'bold'}));\n",
              "    li.append(span(\n",
              "        `(${file.type || 'n/a'}) - ${file.size} bytes, ` +\n",
              "        `last modified: ${\n",
              "            file.lastModifiedDate ? file.lastModifiedDate.toLocaleDateString() :\n",
              "                                    'n/a'} - `));\n",
              "    const percent = span('0% done');\n",
              "    li.appendChild(percent);\n",
              "\n",
              "    outputElement.appendChild(li);\n",
              "\n",
              "    const fileDataPromise = new Promise((resolve) => {\n",
              "      const reader = new FileReader();\n",
              "      reader.onload = (e) => {\n",
              "        resolve(e.target.result);\n",
              "      };\n",
              "      reader.readAsArrayBuffer(file);\n",
              "    });\n",
              "    // Wait for the data to be ready.\n",
              "    let fileData = yield {\n",
              "      promise: fileDataPromise,\n",
              "      response: {\n",
              "        action: 'continue',\n",
              "      }\n",
              "    };\n",
              "\n",
              "    // Use a chunked sending to avoid message size limits. See b/62115660.\n",
              "    let position = 0;\n",
              "    do {\n",
              "      const length = Math.min(fileData.byteLength - position, MAX_PAYLOAD_SIZE);\n",
              "      const chunk = new Uint8Array(fileData, position, length);\n",
              "      position += length;\n",
              "\n",
              "      const base64 = btoa(String.fromCharCode.apply(null, chunk));\n",
              "      yield {\n",
              "        response: {\n",
              "          action: 'append',\n",
              "          file: file.name,\n",
              "          data: base64,\n",
              "        },\n",
              "      };\n",
              "\n",
              "      let percentDone = fileData.byteLength === 0 ?\n",
              "          100 :\n",
              "          Math.round((position / fileData.byteLength) * 100);\n",
              "      percent.textContent = `${percentDone}% done`;\n",
              "\n",
              "    } while (position < fileData.byteLength);\n",
              "  }\n",
              "\n",
              "  // All done.\n",
              "  yield {\n",
              "    response: {\n",
              "      action: 'complete',\n",
              "    }\n",
              "  };\n",
              "}\n",
              "\n",
              "scope.google = scope.google || {};\n",
              "scope.google.colab = scope.google.colab || {};\n",
              "scope.google.colab._files = {\n",
              "  _uploadFiles,\n",
              "  _uploadFilesContinue,\n",
              "};\n",
              "})(self);\n",
              "</script> "
            ]
          },
          "metadata": {}
        },
        {
          "output_type": "stream",
          "name": "stdout",
          "text": [
            "Saving Training_Datasets.csv to Training_Datasets.csv\n"
          ]
        }
      ],
      "source": [
        "from google.colab import files\n",
        "uploaded= files.upload()\n"
      ]
    },
    {
      "cell_type": "code",
      "source": [
        "import io\n",
        "import pandas as pd\n",
        "df= pd.read_csv(io.BytesIO(uploaded['Training_Datasets.csv']))\n",
        "print(df)"
      ],
      "metadata": {
        "colab": {
          "base_uri": "https://localhost:8080/"
        },
        "id": "VUPGsEPwxJSF",
        "outputId": "6e636e8c-5d3c-4c69-c4f8-4a42d89b8c77"
      },
      "execution_count": 2,
      "outputs": [
        {
          "output_type": "stream",
          "name": "stdout",
          "text": [
            "     ACCOUNT TYPE USERNAME     CUSTOMER NAME  ACCOUNT NUMBER  PASSWORD  \\\n",
            "0             NaN      NaN               NaN             NaN       NaN   \n",
            "1         Savings  SPECTAR    Harvey Spectar    1.543535e+09    1231.0   \n",
            "2         Current  PAULSEN     Donna Paulsen    1.334456e+09    4123.0   \n",
            "3          Demat      ZANE       Rachel Zane    1.446636e+09    3252.0   \n",
            "4        Personal     LITT        Louis Litt    2.434536e+09    1242.0   \n",
            "5         Savings  PEARSON   Jessica Pearson    2.163456e+09    6352.0   \n",
            "6         Savings     ROSS      Michael Ross    1.356746e+09    5365.0   \n",
            "7        Personal  BENNETT   Katrina Bennett    1.446353e+09    2335.0   \n",
            "8          Demat   WHEELER  Samantha Wheeler    2.364747e+09    8352.0   \n",
            "9   Fixed deposit   CAHILL       Sean Cahill    2.534623e+09    2345.0   \n",
            "10       Personal  HARDMAN    Daniel Hardman    1.443636e+09    8461.0   \n",
            "\n",
            "    BANK BRANCH NAME  SACTIONED LIMIT  AVAILABLE BALANCE  UNCLEARED BALANCE  \\\n",
            "0                NaN              NaN                NaN                NaN   \n",
            "1          New Delhi       10000000.0          8500000.0                0.0   \n",
            "2         East Delhi        5000000.0           220000.0                0.0   \n",
            "3             Rohini         250000.0           150000.0             1000.0   \n",
            "4             Dwarka       10000000.0          6000000.0           500000.0   \n",
            "5          Daryaganj       20000000.0         12000000.0                0.0   \n",
            "6   North West Delhi         250000.0           100000.0            10000.0   \n",
            "7           Shahdara         200000.0            50000.0            12000.0   \n",
            "8              Saket         200000.0            60000.0             2000.0   \n",
            "9   South East Delhi        1000000.0          1300000.0            10000.0   \n",
            "10      Lajpat Nagar       20000000.0          1400000.0            54000.0   \n",
            "\n",
            "    LIEN AMOUNT     IFSC CODE  \n",
            "0           NaN           NaN  \n",
            "1        1000.0   SBIN0001537  \n",
            "2        1000.0   ICIC0006561  \n",
            "3        2000.0   UTIB0000373  \n",
            "4           0.0   HDFC0001015  \n",
            "5        1500.0   PUNB0006700  \n",
            "6        1000.0   SBIN0000300  \n",
            "7        1300.0   BARB0000230  \n",
            "8        1000.0   KKBK0000191  \n",
            "9        5000.0   YESB0000522  \n",
            "10       2000.0  CITI0000002   \n"
          ]
        }
      ]
    },
    {
      "cell_type": "code",
      "source": [
        "import pandas as pd  # Import pandas for dataset handling\n",
        "\n",
        "# Load the dataset\n",
        "try:\n",
        "   data = pd.read_csv(\"Training_Datasets.csv\")  # Assuming CSV format\n",
        "except FileNotFoundError:\n",
        "   print(\"Error: Dataset file 'Training_Datasets.csv' not found.\")\n",
        "   exit()  # Exit if dataset not found\n",
        "\n",
        "# Extract usernames and passwords from the dataset\n",
        "USERNAME = data[\"USERNAME\"]  # Assuming column name \"username\"\n",
        "PASSWORD = data[\"PASSWORD\"]  # Assuming column name \"password\"\n",
        "\n",
        "# Create a dictionary for efficient lookup\n",
        "credentials = dict(zip(USERNAME, PASSWORD))\n",
        "\n",
        "# Get user input\n",
        "USERNAME = input(\"Enter username: \")\n",
        "PASSWORD = int(input(\"Enter password: \"))\n",
        "\n",
        "# Check for matching credentials\n",
        "if USERNAME in credentials and credentials[USERNAME] == PASSWORD:\n",
        "   print(\"Please Continue..\")\n",
        "else:\n",
        "   print(\"Invalid Username or Password\")"
      ],
      "metadata": {
        "colab": {
          "base_uri": "https://localhost:8080/"
        },
        "id": "NjqhDeSFFLOr",
        "outputId": "0a610958-b572-4a9f-ca97-b9210fd2a578"
      },
      "execution_count": 3,
      "outputs": [
        {
          "output_type": "stream",
          "name": "stdout",
          "text": [
            "Enter username: SPECTAR\n",
            "Enter password: 1231\n",
            "Please Continue..\n"
          ]
        }
      ]
    },
    {
      "cell_type": "code",
      "source": [
        "print(credentials)"
      ],
      "metadata": {
        "colab": {
          "base_uri": "https://localhost:8080/"
        },
        "id": "UGellFWEGEVB",
        "outputId": "1c356f4c-58c0-44d5-b2e6-4b3b7666e3fd"
      },
      "execution_count": 7,
      "outputs": [
        {
          "output_type": "stream",
          "name": "stdout",
          "text": [
            "{nan: nan, 'SPECTAR': 1231.0, 'PAULSEN': 4123.0, 'ZANE': 3252.0, 'LITT': 1242.0, 'PEARSON': 6352.0, 'ROSS': 5365.0, 'BENNETT': 2335.0, 'WHEELER': 8352.0, 'CAHILL': 2345.0, 'HARDMAN': 8461.0}\n"
          ]
        }
      ]
    },
    {
      "cell_type": "code",
      "source": [
        "import pandas as pd\n",
        "import random  # Import for OTP generation\n",
        "\n",
        "# Load the dataset\n",
        "try:\n",
        "    data = pd.read_csv(\"Training_Datasets.csv\")  # Assuming CSV format\n",
        "except FileNotFoundError:\n",
        "    print(\"Error: Dataset file 'Training_Datasets.csv' not found.\")\n",
        "    exit()  # Exit if dataset not found\n",
        "\n",
        "# Extract usernames and passwords from the dataset\n",
        "USERNAME = data[\"USERNAME\"]\n",
        "PASSWORD = data[\"PASSWORD\"]\n",
        "\n",
        "# Create a dictionary for efficient lookup\n",
        "credentials = dict(zip(USERNAME, PASSWORD))\n",
        "\n",
        "\n",
        "def generate_mock_otp():\n",
        "    \"\"\"Generates a 6-digit mock OTP using random numbers.\"\"\"\n",
        "    digits = \"0123456789\"\n",
        "    otp = \"\".join([random.choice(digits) for _ in range(6)])\n",
        "    return otp\n",
        "\n",
        "\n",
        "def verify_otp(user_otp, generated_otp):\n",
        "    \"\"\"Verifies if the user-entered OTP matches the generated mock OTP.\"\"\"\n",
        "    if user_otp == generated_otp:\n",
        "        print(\"Please go ahead..\")\n",
        "    else:\n",
        "        print(\"Invalid OTP. Please try again.\")\n",
        "\n",
        "\n",
        "# Get user input\n",
        "USERNAME = input(\"Enter username: \")\n",
        "PASSWORD = int(input(\"Enter password: \"))\n",
        "\n",
        "# Check for matching credentials\n",
        "if USERNAME in credentials and credentials[USERNAME] == PASSWORD:\n",
        "    print(\"Please Continue..\")\n",
        "\n",
        "    # Generate mock OTP\n",
        "    mock_otp = generate_mock_otp()\n",
        "    print(f\"Your mock OTP is: {mock_otp}\")\n",
        "\n",
        "    # Get user input for OTP\n",
        "    user_otp = input(\"Please enter your OTP: \")\n",
        "\n",
        "    # Verify OTP\n",
        "    verify_otp(user_otp, mock_otp)\n",
        "else:\n",
        "    print(\"Invalid Username or Password\")\n"
      ],
      "metadata": {
        "colab": {
          "base_uri": "https://localhost:8080/"
        },
        "id": "Jm9n_fLCHbEt",
        "outputId": "5e448155-78d2-4ec3-b4e6-30b64d27cf4b"
      },
      "execution_count": 4,
      "outputs": [
        {
          "output_type": "stream",
          "name": "stdout",
          "text": [
            "Enter username: ZANE\n",
            "Enter password: 3252\n",
            "Please Continue..\n",
            "Your mock OTP is: 172789\n",
            "Please enter your OTP: 172789\n",
            "Please go ahead..\n"
          ]
        }
      ]
    },
    {
      "cell_type": "code",
      "source": [
        "import pandas as pd\n",
        "import random  # Import for OTP generation\n",
        "\n",
        "# Load the dataset\n",
        "try:\n",
        "    data = pd.read_csv(\"Training_Datasets.csv\")  # Assuming CSV format\n",
        "except FileNotFoundError:\n",
        "    print(\"Error: Dataset file 'Training_Datasets.csv' not found.\")\n",
        "    exit()  # Exit if dataset not found\n",
        "\n",
        "# Extract usernames and passwords from the dataset\n",
        "USERNAME = data[\"USERNAME\"]\n",
        "PASSWORD = data[\"PASSWORD\"]\n",
        "\n",
        "# Create a dictionary for efficient lookup\n",
        "credentials = dict(zip(USERNAME, PASSWORD))\n",
        "\n",
        "\n",
        "def generate_mock_otp():\n",
        "    \"\"\"Generates a 6-digit mock OTP using random numbers.\"\"\"\n",
        "    digits = \"0123456789\"\n",
        "    otp = \"\".join([random.choice(digits) for _ in range(6)])\n",
        "    return otp\n",
        "\n",
        "\n",
        "def verify_otp(user_otp, generated_otp):\n",
        "    \"\"\"Verifies if the user-entered OTP matches the generated mock OTP.\"\"\"\n",
        "    if user_otp == generated_otp:\n",
        "        print(\"Please go ahead..\")\n",
        "    else:\n",
        "        print(\"Invalid OTP. Please try again.\")\n",
        "\n",
        "\n",
        "# Get user input\n",
        "USERNAME = input(\"Enter username: \")\n",
        "PASSWORD = int(input(\"Enter password: \"))\n",
        "\n",
        "# Check for matching credentials\n",
        "if USERNAME in credentials and credentials[USERNAME] == PASSWORD:\n",
        "    print(\"Please Continue..\")\n",
        "\n",
        "    # Generate mock OTP\n",
        "    mock_otp = generate_mock_otp()\n",
        "    print(f\"Your mock OTP is: {mock_otp}\")\n",
        "\n",
        "    # Get user input for OTP\n",
        "    user_otp = input(\"Please enter your OTP: \")\n",
        "\n",
        "    # Verify OTP\n",
        "    verify_otp(user_otp, mock_otp)\n",
        "else:\n",
        "    print(\"Invalid Username or Password\")\n"
      ],
      "metadata": {
        "colab": {
          "base_uri": "https://localhost:8080/"
        },
        "id": "3Fjk50Og2LpV",
        "outputId": "a41e1c8d-5886-46d2-eeb2-626d22beb69f"
      },
      "execution_count": 5,
      "outputs": [
        {
          "output_type": "stream",
          "name": "stdout",
          "text": [
            "Enter username: SPECTAR\n",
            "Enter password: 1231\n",
            "Please Continue..\n",
            "Your mock OTP is: 110974\n",
            "Please enter your OTP: 110973\n",
            "Invalid OTP. Please try again.\n"
          ]
        }
      ]
    },
    {
      "cell_type": "code",
      "source": [],
      "metadata": {
        "id": "CAEe9IAz2b8d"
      },
      "execution_count": null,
      "outputs": []
    }
  ]
}